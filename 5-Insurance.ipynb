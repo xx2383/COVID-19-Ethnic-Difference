{
 "cells": [
  {
   "cell_type": "markdown",
   "metadata": {},
   "source": [
    "# Group 31: Xinyu Xiong, Yueling Feng, Yuxin Yang, Yixuan Deng"
   ]
  },
  {
   "cell_type": "markdown",
   "metadata": {},
   "source": [
    "## Uninsured Rates for the Nonelderly by Race/Ethnicity\n",
    "### Data is from: https://www.kff.org/uninsured/state-indicator/nonelderly-uninsured-rate-by-raceethnicity"
   ]
  },
  {
   "cell_type": "code",
   "execution_count": 8,
   "metadata": {},
   "outputs": [],
   "source": [
    "import numpy as np\n",
    "import pandas as pd\n",
    "import seaborn as sns\n",
    "import matplotlib.pyplot as plt"
   ]
  },
  {
   "cell_type": "code",
   "execution_count": 23,
   "metadata": {},
   "outputs": [
    {
     "data": {
      "text/html": [
       "<div>\n",
       "<style scoped>\n",
       "    .dataframe tbody tr th:only-of-type {\n",
       "        vertical-align: middle;\n",
       "    }\n",
       "\n",
       "    .dataframe tbody tr th {\n",
       "        vertical-align: top;\n",
       "    }\n",
       "\n",
       "    .dataframe thead th {\n",
       "        text-align: right;\n",
       "    }\n",
       "</style>\n",
       "<table border=\"1\" class=\"dataframe\">\n",
       "  <thead>\n",
       "    <tr style=\"text-align: right;\">\n",
       "      <th></th>\n",
       "      <th>Races</th>\n",
       "      <th>2018</th>\n",
       "      <th>2019</th>\n",
       "    </tr>\n",
       "  </thead>\n",
       "  <tbody>\n",
       "    <tr>\n",
       "      <th>0</th>\n",
       "      <td>white</td>\n",
       "      <td>0.07531</td>\n",
       "      <td>0.07848</td>\n",
       "    </tr>\n",
       "    <tr>\n",
       "      <th>1</th>\n",
       "      <td>black</td>\n",
       "      <td>0.11457</td>\n",
       "      <td>0.11392</td>\n",
       "    </tr>\n",
       "    <tr>\n",
       "      <th>2</th>\n",
       "      <td>Hispanic</td>\n",
       "      <td>0.18976</td>\n",
       "      <td>0.19967</td>\n",
       "    </tr>\n",
       "    <tr>\n",
       "      <th>3</th>\n",
       "      <td>Asian/Native Hawaiian and Pacific Islander</td>\n",
       "      <td>0.06843</td>\n",
       "      <td>0.07360</td>\n",
       "    </tr>\n",
       "    <tr>\n",
       "      <th>4</th>\n",
       "      <td>American Indian/Alaska Native</td>\n",
       "      <td>0.21785</td>\n",
       "      <td>0.21701</td>\n",
       "    </tr>\n",
       "    <tr>\n",
       "      <th>5</th>\n",
       "      <td>Multiple Races</td>\n",
       "      <td>0.08071</td>\n",
       "      <td>0.08241</td>\n",
       "    </tr>\n",
       "  </tbody>\n",
       "</table>\n",
       "</div>"
      ],
      "text/plain": [
       "                                        Races     2018     2019\n",
       "0                                       white  0.07531  0.07848\n",
       "1                                       black  0.11457  0.11392\n",
       "2                                    Hispanic  0.18976  0.19967\n",
       "3  Asian/Native Hawaiian and Pacific Islander  0.06843  0.07360\n",
       "4               American Indian/Alaska Native  0.21785  0.21701\n",
       "5                              Multiple Races  0.08071  0.08241"
      ]
     },
     "execution_count": 23,
     "metadata": {},
     "output_type": "execute_result"
    }
   ],
   "source": [
    "# Read Data\n",
    "df = pd.read_excel(\"/Users/apple/Desktop/raw_data (4).xlsx\")\n",
    "df"
   ]
  },
  {
   "cell_type": "code",
   "execution_count": 36,
   "metadata": {},
   "outputs": [
    {
     "data": {
      "text/plain": [
       "Text(0.5, 1.0, 'Uninsured Rates for the Nonelderly by Race from 2018 to 2019')"
      ]
     },
     "execution_count": 36,
     "metadata": {},
     "output_type": "execute_result"
    },
    {
     "data": {
      "image/png": "[encoded data removed]",
      "text/plain": [
       "<Figure size 1080x720 with 1 Axes>"
      ]
     },
     "metadata": {
      "needs_background": "light"
     },
     "output_type": "display_data"
    }
   ],
   "source": [
    "# Plot uninsured rate in 2018 and 2019\n",
    "Uninsured_Rates18 = [0.07531,0.11457,0.18976,0.06843,0.21785,0.08071]\n",
    "Uninsured_Rates19 = [0.07848,0.11392,0.19967,0.07360,0.21701,0.08241]\n",
    "\n",
    "#Define Asian/Native Hawaiian and Pacific Islander as AH and PI\n",
    "\n",
    "index = ['White', 'Black', 'Hispanic',\n",
    "         'AH and PI', 'American Indian/Alaska Native', 'Multiple Races']\n",
    "\n",
    "df = pd.DataFrame({'2018': Uninsured_Rates18,\n",
    "                   '2019': Uninsured_Rates19}, index=index)\n",
    "df.plot.bar(rot=0,figsize=(15,10))\n",
    "plt.title(\"Uninsured Rates for the Nonelderly by Race from 2018 to 2019\", fontweight ='bold', fontsize = 14)\n"
   ]
  },
  {
   "cell_type": "code",
   "execution_count": null,
   "metadata": {},
   "outputs": [],
   "source": []
  }
 ],
 "metadata": {
  "kernelspec": {
   "display_name": "Python 3",
   "language": "python",
   "name": "python3"
  },
  "language_info": {
   "codemirror_mode": {
    "name": "ipython",
    "version": 3
   },
   "file_extension": ".py",
   "mimetype": "text/x-python",
   "name": "python",
   "nbconvert_exporter": "python",
   "pygments_lexer": "ipython3",
   "version": "3.8.5"
  }
 },
 "nbformat": 4,
 "nbformat_minor": 4
}
